{
 "cells": [
  {
   "cell_type": "markdown",
   "id": "8838a4f3",
   "metadata": {},
   "source": [
    "1. Даны две независимые выборки. Не соблюдается условие нормальности\n",
    "x1 380,420, 290\n",
    "y1 140,360,200,900\n",
    "Сделайте вывод по результатам, полученным с помощью функции, имеются ли статистические различия между группами?\n",
    "выборки 2, они независимы -> критерий Манна-Уитни"
   ]
  },
  {
   "cell_type": "code",
   "execution_count": null,
   "id": "5daf460f",
   "metadata": {},
   "outputs": [],
   "source": [
    "alpha = 0.05\n",
    "Ho: mu1=mu2\n",
    "H1: mu1 != mu2"
   ]
  },
  {
   "cell_type": "code",
   "execution_count": 2,
   "id": "ceab3ffa",
   "metadata": {},
   "outputs": [
    {
     "data": {
      "text/plain": [
       "MannwhitneyuResult(statistic=8.0, pvalue=0.6285714285714286)"
      ]
     },
     "execution_count": 2,
     "metadata": {},
     "output_type": "execute_result"
    }
   ],
   "source": [
    "import numpy as np\n",
    "import scipy.stats as stats\n",
    "x1 = np.array([380,420, 290])\n",
    "y1 = np.array([140,360,200,900])\n",
    "stats.mannwhitneyu(x1,y1)"
   ]
  },
  {
   "cell_type": "code",
   "execution_count": null,
   "id": "5cfe2821",
   "metadata": {},
   "outputs": [],
   "source": [
    "pvalue>alpha -> статистически значимых различий между группами нет"
   ]
  },
  {
   "cell_type": "markdown",
   "id": "33f5b496",
   "metadata": {},
   "source": [
    "Задача 2. Исследовалось влияние препарата на уровень давления пациентов. Сначала\n",
    "измерялось давление до приема препарата, потом через 10 минут и через 30 минут. Есть\n",
    "ли статистически значимые различия между измерениями давления? В выборках не соблюдается условие нормальности.\n",
    "1е измерение до приема препарата: 150, 160, 165, 145, 155\n",
    "2е измерение через 10 минут: 140, 155, 150, 130, 135\n",
    "3е измерение через 30 минут: 130, 130, 120, 130, 125"
   ]
  },
  {
   "cell_type": "code",
   "execution_count": null,
   "id": "f871ede0",
   "metadata": {},
   "outputs": [],
   "source": [
    "выборки зависимые, их больше двух - критерий Фридмана\n",
    "alpha = 0.05"
   ]
  },
  {
   "cell_type": "code",
   "execution_count": 4,
   "id": "5cfd625f",
   "metadata": {},
   "outputs": [
    {
     "data": {
      "text/plain": [
       "FriedmanchisquareResult(statistic=9.578947368421062, pvalue=0.00831683351100441)"
      ]
     },
     "execution_count": 4,
     "metadata": {},
     "output_type": "execute_result"
    }
   ],
   "source": [
    "import numpy as np\n",
    "import scipy.stats as stats\n",
    "x1 = np.array([150, 160, 165, 145, 155])\n",
    "x2 = np.array([140, 155, 150, 130, 135])\n",
    "x3 = np.array([130, 130, 120, 130, 125])\n",
    "stats.friedmanchisquare(x1, x2, x3)"
   ]
  },
  {
   "cell_type": "code",
   "execution_count": null,
   "id": "46cd3aa4",
   "metadata": {},
   "outputs": [],
   "source": [
    "pvalue < alpha -> статистичеки значимые различия есть "
   ]
  },
  {
   "cell_type": "markdown",
   "id": "b5d599fe",
   "metadata": {},
   "source": [
    "Задача 3. Сравните 1 и 2 е измерения, предполагая, что 3го измерения через 30 минут не было. Есть\n",
    "ли статистически значимые различия между измерениями давления?\n",
    "alpha = 0.05"
   ]
  },
  {
   "cell_type": "code",
   "execution_count": null,
   "id": "68e16f8a",
   "metadata": {},
   "outputs": [],
   "source": [
    "выборок 2, они зависимые -> критерий Уилкоксона"
   ]
  },
  {
   "cell_type": "code",
   "execution_count": 5,
   "id": "c3db5c3f",
   "metadata": {},
   "outputs": [
    {
     "data": {
      "text/plain": [
       "WilcoxonResult(statistic=0.0, pvalue=0.0625)"
      ]
     },
     "execution_count": 5,
     "metadata": {},
     "output_type": "execute_result"
    }
   ],
   "source": [
    "import numpy as np\n",
    "import scipy.stats as stats\n",
    "x1 = np.array([150, 160, 165, 145, 155])\n",
    "x2 = np.array([140, 155, 150, 130, 135])\n",
    "stats.wilcoxon(x1, x2)"
   ]
  },
  {
   "cell_type": "code",
   "execution_count": null,
   "id": "1a2fa53f",
   "metadata": {},
   "outputs": [],
   "source": [
    "pvalue>alpha -> статистически значимых различий между группами нет"
   ]
  },
  {
   "cell_type": "markdown",
   "id": "1ded1aa0",
   "metadata": {},
   "source": [
    "Задача 4. Даны 3 группы учеников плавания. Не соблюдается условие нормальности.\n",
    "В 1 группе время на дистанцию 50 м составляют:\n",
    "56, 60, 62, 55, 71, 67, 59, 58, 64, 67\n",
    "Вторая группа : 57, 58, 69, 48, 72, 70, 68, 71, 50, 53\n",
    "Третья группа: 57, 67, 49, 48, 47, 55, 66, 51, 54\n",
    "Есть\n",
    "ли статистически значимые различия между группами?"
   ]
  },
  {
   "cell_type": "code",
   "execution_count": null,
   "id": "c489545a",
   "metadata": {},
   "outputs": [],
   "source": [
    "группы независимые, их больше двух -> критерий Крускала - Уоллиса\n",
    "alpha = 0.05"
   ]
  },
  {
   "cell_type": "code",
   "execution_count": 6,
   "id": "6c177904",
   "metadata": {},
   "outputs": [
    {
     "data": {
      "text/plain": [
       "KruskalResult(statistic=5.465564058257224, pvalue=0.0650380998590494)"
      ]
     },
     "execution_count": 6,
     "metadata": {},
     "output_type": "execute_result"
    }
   ],
   "source": [
    "import numpy as np\n",
    "import scipy.stats as stats\n",
    "a1 = np.array([56, 60, 62, 55, 71, 67, 59, 58, 64, 67])\n",
    "a2 = np.array([57, 58, 69, 48, 72, 70, 68, 71, 50, 53])\n",
    "a3 = np.array([57, 67, 49, 48, 47, 55, 66, 51, 54])\n",
    "stats.kruskal(a1, a2, a3)\n"
   ]
  },
  {
   "cell_type": "markdown",
   "id": "482436ce",
   "metadata": {},
   "source": [
    "pvalue>alpha -> статистически значимых различий между группами нет"
   ]
  },
  {
   "cell_type": "markdown",
   "id": "dbbce3ce",
   "metadata": {},
   "source": [
    "Задача 5. Заявляется, что партия изготавливается со средним арифметическим 2,5 см. Проверить\n",
    "данную гипотезу, если известно, что размеры изделий подчинены нормальному закону\n",
    "распределения. Объем выборки 10, уровень статистической значимости 5%\n",
    "2.51, 2.35, 2.74, 2.56, 2.40, 2.36, 2.65, 2.7, 2.67, 2.34"
   ]
  },
  {
   "cell_type": "code",
   "execution_count": null,
   "id": "a40c420d",
   "metadata": {},
   "outputs": [],
   "source": [
    "норм.распределение, сигма ген.совокупности не известна -> t- критерий\n",
    "H0: mu = mu0\n",
    "H1: mu != mu0\n"
   ]
  },
  {
   "cell_type": "code",
   "execution_count": 21,
   "id": "bd56b8af",
   "metadata": {},
   "outputs": [
    {
     "data": {
      "text/plain": [
       "(2.5279999999999996, 0.1572542173961923)"
      ]
     },
     "execution_count": 21,
     "metadata": {},
     "output_type": "execute_result"
    }
   ],
   "source": [
    "import numpy as np\n",
    "import scipy.stats as stats\n",
    "mu = 2.5\n",
    "alpha = 0.05\n",
    "a = np.array([2.51, 2.35, 2.74, 2.56, 2.40, 2.36, 2.65, 2.7, 2.67, 2.34])\n",
    "mu0 = np.mean(a)\n",
    "a_std = np.std(a, ddof =1)\n",
    "mu0, a_std"
   ]
  },
  {
   "cell_type": "code",
   "execution_count": 22,
   "id": "8f587129",
   "metadata": {},
   "outputs": [
    {
     "data": {
      "text/plain": [
       "0.5630613661802959"
      ]
     },
     "execution_count": 22,
     "metadata": {},
     "output_type": "execute_result"
    }
   ],
   "source": [
    "n = len(a)\n",
    "T_n = (mu0 - mu)/(a_std/np.sqrt(n))\n",
    "T_n"
   ]
  },
  {
   "cell_type": "code",
   "execution_count": 16,
   "id": "03eb1642",
   "metadata": {},
   "outputs": [
    {
     "data": {
      "text/plain": [
       "(-2.262157162740992, 2.2621571627409915)"
      ]
     },
     "execution_count": 16,
     "metadata": {},
     "output_type": "execute_result"
    }
   ],
   "source": [
    "t1 = stats.t.ppf(alpha/2, df= n-1)\n",
    "t2 = stats.t.ppf(1-alpha/2, df= n-1)\n",
    "t1, t2"
   ]
  },
  {
   "cell_type": "code",
   "execution_count": null,
   "id": "7975a955",
   "metadata": {},
   "outputs": [],
   "source": [
    "Т.к. Tн не лежит в критическом регионе, то гипотезу Ho не отвергаем."
   ]
  }
 ],
 "metadata": {
  "kernelspec": {
   "display_name": "Python 3 (ipykernel)",
   "language": "python",
   "name": "python3"
  },
  "language_info": {
   "codemirror_mode": {
    "name": "ipython",
    "version": 3
   },
   "file_extension": ".py",
   "mimetype": "text/x-python",
   "name": "python",
   "nbconvert_exporter": "python",
   "pygments_lexer": "ipython3",
   "version": "3.9.13"
  }
 },
 "nbformat": 4,
 "nbformat_minor": 5
}
